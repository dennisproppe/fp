{
 "cells": [
  {
   "cell_type": "markdown",
   "metadata": {},
   "source": [
    "# Trying to grasp basic functional paradigms\n",
    "\n",
    "As I am familiar to python, I will try to grasp functional paradigms in python first."
   ]
  },
  {
   "cell_type": "markdown",
   "metadata": {},
   "source": [
    "## Closures\n",
    "\n",
    "I am starting with a very simple building block of FP, called closures. Closures allow the programmer to embed values in functions that are only accessible to that function and return another function.\n",
    "\n",
    "This sounds weird at first and it took me some time to wrap my head around it, but it is a simple concept once understood.\n",
    "\n",
    "Let's have a look at this example:\n"
   ]
  },
  {
   "cell_type": "code",
   "execution_count": 2,
   "metadata": {
    "collapsed": true
   },
   "outputs": [],
   "source": [
    "def add(a):\n",
    "    def add_b_to_a(b):\n",
    "        return a+b\n",
    "    return add_b_to_a"
   ]
  },
  {
   "cell_type": "markdown",
   "metadata": {},
   "source": [
    "I defined a function add that takes one argument, an integer with value a. Instead of returning a value, this function returns another function, add_b_to_a. \n",
    "\n",
    "The magic that happens is that the value of a, which was passed to the outer function will now forever be enclosed in the function that gets returned. I can now create functions that have some state \"injected\" into them. This lays the grounds for further functional concepts like currying etc.\n",
    "\n",
    "By defining a function \"add_to_four\" that calls add with a=4, we create a function that will always return the result of the \"inner\"function, with the value of a = 4. "
   ]
  },
  {
   "cell_type": "code",
   "execution_count": 3,
   "metadata": {
    "collapsed": false
   },
   "outputs": [],
   "source": [
    "add_to_four = add(4)"
   ]
  },
  {
   "cell_type": "markdown",
   "metadata": {},
   "source": [
    "If I now call this new function with b = 8, then the result will be 4 + 8 = 12"
   ]
  },
  {
   "cell_type": "code",
   "execution_count": 4,
   "metadata": {
    "collapsed": false
   },
   "outputs": [
    {
     "data": {
      "text/plain": [
       "12"
      ]
     },
     "execution_count": 4,
     "metadata": {},
     "output_type": "execute_result"
    }
   ],
   "source": [
    "add_to_four(8)"
   ]
  },
  {
   "cell_type": "markdown",
   "metadata": {},
   "source": [
    "It is possible to create many functions that are just adding different fixed numbers to a number"
   ]
  },
  {
   "cell_type": "code",
   "execution_count": 7,
   "metadata": {
    "collapsed": true
   },
   "outputs": [],
   "source": [
    "add_to_two = add(2)\n",
    "add_to_ten = add(10)"
   ]
  },
  {
   "cell_type": "code",
   "execution_count": 10,
   "metadata": {
    "collapsed": false
   },
   "outputs": [
    {
     "data": {
      "text/plain": [
       "12"
      ]
     },
     "execution_count": 10,
     "metadata": {},
     "output_type": "execute_result"
    }
   ],
   "source": [
    "# this should return 12 \n",
    "add_to_ten(0) + add_to_two(0)"
   ]
  },
  {
   "cell_type": "markdown",
   "metadata": {},
   "source": [
    "## Map/Reduce logic\n",
    "\n",
    "A lot of concepts in FP rely on employing map/reduce concepts. This is not a clear FP paradigm, but a useful pre-condition for this.\n",
    "\n",
    "A __map__ function takes two arguments, a function and a collection of items. This is a very simple example:"
   ]
  },
  {
   "cell_type": "code",
   "execution_count": 14,
   "metadata": {
    "collapsed": false
   },
   "outputs": [
    {
     "data": {
      "text/plain": [
       "[3, 3, 5]"
      ]
     },
     "execution_count": 14,
     "metadata": {},
     "output_type": "execute_result"
    }
   ],
   "source": [
    "listt = [\"one\",\"two\",\"three\"]\n",
    "type(listt)\n",
    "lmap = map(len, listt)\n",
    "lmap"
   ]
  },
  {
   "cell_type": "markdown",
   "metadata": {},
   "source": [
    "This map function mapped the length of the individual strings in the collection listt to this list, i.e., replaced the original elements of the collection with its string lengths.\n",
    "\n",
    "The __reduce__ function applies a reduction function on a collection of items and returns an aggregate. The following code is a simple example of this: It takes the lenghts of the string in the preceding map function and reduces them to the sum of their lenghts, returning a simple scalar value"
   ]
  },
  {
   "cell_type": "code",
   "execution_count": 17,
   "metadata": {
    "collapsed": false
   },
   "outputs": [
    {
     "data": {
      "text/plain": [
       "11"
      ]
     },
     "execution_count": 17,
     "metadata": {},
     "output_type": "execute_result"
    }
   ],
   "source": [
    "lreduce = reduce(lambda a,x: a+x,lmap)\n",
    "lreduce"
   ]
  },
  {
   "cell_type": "markdown",
   "metadata": {},
   "source": [
    "So, what does the a,x pair mean? The very nice explanation of https://maryrosecook.com/blog/post/a-practical-introduction-to-functional-programming states this:\n",
    "\n",
    "     x is the current item being iterated over. a is the accumulator. It is the value returned by the execution of \n",
    "     the lambda on the previous item. reduce() walks through the items. For each one, it runs the lambda on \n",
    "     the current a and x and returns the result as the a of the next iteration.\n",
    "\n",
    "     What is a in the first iteration? There is no previous iteration result for it to pass along. reduce() uses the first item in the collection for a in the first iteration and starts iterating at the second item. That is, the first x is the second item.\n",
    "\n",
    "This is what actually happens in the aforementioned reduce function:\n",
    "\n",
    "This first iteration has no \"a\", thus it will be set to the first \"x\" on the first iteration. After the first iteration, a is 3. The second iteration looks at the second \"x\" (3, too) and evaluates the function a+x on both values. The result fro a after the second iteration is now 6. The third iteration now again calculates a+x for the thrid value of x (5). The final result then is 11 (6 +5)."
   ]
  }
 ],
 "metadata": {
  "kernelspec": {
   "display_name": "Python 2",
   "language": "python",
   "name": "python2"
  },
  "language_info": {
   "codemirror_mode": {
    "name": "ipython",
    "version": 2
   },
   "file_extension": ".py",
   "mimetype": "text/x-python",
   "name": "python",
   "nbconvert_exporter": "python",
   "pygments_lexer": "ipython2",
   "version": "2.7.11"
  }
 },
 "nbformat": 4,
 "nbformat_minor": 0
}
